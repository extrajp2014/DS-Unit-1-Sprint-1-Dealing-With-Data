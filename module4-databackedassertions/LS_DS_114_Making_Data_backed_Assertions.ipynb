{
  "nbformat": 4,
  "nbformat_minor": 0,
  "metadata": {
    "colab": {
      "name": "LS_DS_114_Making_Data_backed_Assertions.ipynb",
      "version": "0.3.2",
      "provenance": [],
      "collapsed_sections": [],
      "include_colab_link": true
    },
    "kernelspec": {
      "name": "python3",
      "display_name": "Python 3"
    }
  },
  "cells": [
    {
      "cell_type": "markdown",
      "metadata": {
        "id": "view-in-github",
        "colab_type": "text"
      },
      "source": [
        "<a href=\"https://colab.research.google.com/github/extrajp2014/DS-Unit-1-Sprint-1-Dealing-With-Data/blob/master/module4-databackedassertions/LS_DS_114_Making_Data_backed_Assertions.ipynb\" target=\"_parent\"><img src=\"https://colab.research.google.com/assets/colab-badge.svg\" alt=\"Open In Colab\"/></a>"
      ]
    },
    {
      "metadata": {
        "id": "Okfr_uhwhS1X",
        "colab_type": "text"
      },
      "cell_type": "markdown",
      "source": [
        "# Lambda School Data Science - Making Data-backed Assertions\n",
        "\n",
        "This is, for many, the main point of data science - to create and support reasoned arguments based on evidence. It's not a topic to master in a day, but it is worth some focused time thinking about and structuring your approach to it."
      ]
    },
    {
      "metadata": {
        "id": "9dtJETFRhnOG",
        "colab_type": "text"
      },
      "cell_type": "markdown",
      "source": [
        "## Lecture - generating a confounding variable\n",
        "\n",
        "The prewatch material told a story about a hypothetical health condition where both the drug usage and overall health outcome were related to gender - thus making gender a confounding variable, obfuscating the possible relationship between the drug and the outcome.\n",
        "\n",
        "Let's use Python to generate data that actually behaves in this fashion!"
      ]
    },
    {
      "metadata": {
        "id": "WiBkgmPJhmhE",
        "colab_type": "code",
        "outputId": "0f536ee2-81df-44ab-a945-eeaf0411ec93",
        "colab": {
          "base_uri": "https://localhost:8080/",
          "height": 1054
        }
      },
      "cell_type": "code",
      "source": [
        "import random\n",
        "dir(random)  # Reminding ourselves what we can do here"
      ],
      "execution_count": 0,
      "outputs": [
        {
          "output_type": "execute_result",
          "data": {
            "text/plain": [
              "['BPF',\n",
              " 'LOG4',\n",
              " 'NV_MAGICCONST',\n",
              " 'RECIP_BPF',\n",
              " 'Random',\n",
              " 'SG_MAGICCONST',\n",
              " 'SystemRandom',\n",
              " 'TWOPI',\n",
              " '_BuiltinMethodType',\n",
              " '_MethodType',\n",
              " '_Sequence',\n",
              " '_Set',\n",
              " '__all__',\n",
              " '__builtins__',\n",
              " '__cached__',\n",
              " '__doc__',\n",
              " '__file__',\n",
              " '__loader__',\n",
              " '__name__',\n",
              " '__package__',\n",
              " '__spec__',\n",
              " '_acos',\n",
              " '_bisect',\n",
              " '_ceil',\n",
              " '_cos',\n",
              " '_e',\n",
              " '_exp',\n",
              " '_inst',\n",
              " '_itertools',\n",
              " '_log',\n",
              " '_pi',\n",
              " '_random',\n",
              " '_sha512',\n",
              " '_sin',\n",
              " '_sqrt',\n",
              " '_test',\n",
              " '_test_generator',\n",
              " '_urandom',\n",
              " '_warn',\n",
              " 'betavariate',\n",
              " 'choice',\n",
              " 'choices',\n",
              " 'expovariate',\n",
              " 'gammavariate',\n",
              " 'gauss',\n",
              " 'getrandbits',\n",
              " 'getstate',\n",
              " 'lognormvariate',\n",
              " 'normalvariate',\n",
              " 'paretovariate',\n",
              " 'randint',\n",
              " 'random',\n",
              " 'randrange',\n",
              " 'sample',\n",
              " 'seed',\n",
              " 'setstate',\n",
              " 'shuffle',\n",
              " 'triangular',\n",
              " 'uniform',\n",
              " 'vonmisesvariate',\n",
              " 'weibullvariate']"
            ]
          },
          "metadata": {
            "tags": []
          },
          "execution_count": 84
        }
      ]
    },
    {
      "metadata": {
        "id": "Ks5qFtpnq-q5",
        "colab_type": "code",
        "outputId": "0fc1f9d7-1a5d-4ad1-d6ad-b95b8e5c4bc9",
        "colab": {
          "base_uri": "https://localhost:8080/",
          "height": 34
        }
      },
      "cell_type": "code",
      "source": [
        "# Let's think of another scenario:\n",
        "# We work for a company that sells accessories for mobile phones.\n",
        "# They have an ecommerce site, and we are supposed to analyze logs\n",
        "# to determine what sort of usage is related to purchases, and thus guide\n",
        "# website development to encourage higher conversion.\n",
        "\n",
        "# The hypothesis - users who spend longer on the site tend\n",
        "# to spend more. Seems reasonable, no?\n",
        "\n",
        "# But there's a confounding variable! If they're on a phone, they:\n",
        "# a) Spend less time on the site, but\n",
        "# b) Are more likely to be interested in the actual products!\n",
        "\n",
        "# Let's use namedtuple to represent our data\n",
        "\n",
        "from collections import namedtuple\n",
        "# purchased and mobile are bools, time_on_site in seconds\n",
        "User = namedtuple('User', ['purchased','time_on_site', 'mobile'])\n",
        "\n",
        "example_user = User(False, 12, False)\n",
        "print(example_user)"
      ],
      "execution_count": 0,
      "outputs": [
        {
          "output_type": "stream",
          "text": [
            "User(purchased=False, time_on_site=12, mobile=False)\n"
          ],
          "name": "stdout"
        }
      ]
    },
    {
      "metadata": {
        "id": "lfPiHNG_sefL",
        "colab_type": "code",
        "outputId": "7f74ade7-8c99-427d-9140-ffa08294349a",
        "colab": {
          "base_uri": "https://localhost:8080/",
          "height": 54
        }
      },
      "cell_type": "code",
      "source": [
        "# And now let's generate 1000 example users\n",
        "# 750 mobile, 250 not (i.e. desktop)\n",
        "# A desktop user has a base conversion likelihood of 10%\n",
        "# And it goes up by 1% for each 15 seconds they spend on the site\n",
        "# And they spend anywhere from 10 seconds to 10 minutes on the site (uniform)\n",
        "# Mobile users spend on average half as much time on the site as desktop\n",
        "# But have twice as much base likelihood of buying something\n",
        "\n",
        "users = []\n",
        "\n",
        "for _ in range(250):\n",
        "  # Desktop users\n",
        "  time_on_site = random.uniform(10, 600)\n",
        "  purchased = random.random() < 0.1 + (time_on_site // 1500)\n",
        "  users.append(User(purchased, time_on_site, False))\n",
        "  \n",
        "for _ in range(750):\n",
        "  # Mobile users\n",
        "  time_on_site = random.uniform(5, 300)\n",
        "  purchased = random.random() < 0.2 + (time_on_site // 1500)\n",
        "  users.append(User(purchased, time_on_site, True))\n",
        "  \n",
        "random.shuffle(users)\n",
        "print(users[:10])"
      ],
      "execution_count": 0,
      "outputs": [
        {
          "output_type": "stream",
          "text": [
            "[User(purchased=True, time_on_site=64.19533883426385, mobile=True), User(purchased=False, time_on_site=164.29663620192443, mobile=True), User(purchased=False, time_on_site=206.08417155151415, mobile=False), User(purchased=False, time_on_site=94.0273696304793, mobile=True), User(purchased=False, time_on_site=488.6337137289614, mobile=False), User(purchased=True, time_on_site=201.73567504355674, mobile=True), User(purchased=False, time_on_site=202.87287614510967, mobile=True), User(purchased=False, time_on_site=127.06493199820261, mobile=True), User(purchased=False, time_on_site=245.5798992068194, mobile=True), User(purchased=False, time_on_site=140.19649110148248, mobile=True)]\n"
          ],
          "name": "stdout"
        }
      ]
    },
    {
      "metadata": {
        "id": "9gDYb5qGuRzy",
        "colab_type": "code",
        "outputId": "1e717211-c26e-4020-9133-9eb26be36a32",
        "colab": {
          "base_uri": "https://localhost:8080/",
          "height": 204
        }
      },
      "cell_type": "code",
      "source": [
        "# Let's put this in a dataframe so we can look at it more easily\n",
        "import pandas as pd\n",
        "user_data = pd.DataFrame(users)\n",
        "user_data.head()"
      ],
      "execution_count": 0,
      "outputs": [
        {
          "output_type": "execute_result",
          "data": {
            "text/html": [
              "<div>\n",
              "<style scoped>\n",
              "    .dataframe tbody tr th:only-of-type {\n",
              "        vertical-align: middle;\n",
              "    }\n",
              "\n",
              "    .dataframe tbody tr th {\n",
              "        vertical-align: top;\n",
              "    }\n",
              "\n",
              "    .dataframe thead th {\n",
              "        text-align: right;\n",
              "    }\n",
              "</style>\n",
              "<table border=\"1\" class=\"dataframe\">\n",
              "  <thead>\n",
              "    <tr style=\"text-align: right;\">\n",
              "      <th></th>\n",
              "      <th>purchased</th>\n",
              "      <th>time_on_site</th>\n",
              "      <th>mobile</th>\n",
              "    </tr>\n",
              "  </thead>\n",
              "  <tbody>\n",
              "    <tr>\n",
              "      <th>0</th>\n",
              "      <td>True</td>\n",
              "      <td>64.195339</td>\n",
              "      <td>True</td>\n",
              "    </tr>\n",
              "    <tr>\n",
              "      <th>1</th>\n",
              "      <td>False</td>\n",
              "      <td>164.296636</td>\n",
              "      <td>True</td>\n",
              "    </tr>\n",
              "    <tr>\n",
              "      <th>2</th>\n",
              "      <td>False</td>\n",
              "      <td>206.084172</td>\n",
              "      <td>False</td>\n",
              "    </tr>\n",
              "    <tr>\n",
              "      <th>3</th>\n",
              "      <td>False</td>\n",
              "      <td>94.027370</td>\n",
              "      <td>True</td>\n",
              "    </tr>\n",
              "    <tr>\n",
              "      <th>4</th>\n",
              "      <td>False</td>\n",
              "      <td>488.633714</td>\n",
              "      <td>False</td>\n",
              "    </tr>\n",
              "  </tbody>\n",
              "</table>\n",
              "</div>"
            ],
            "text/plain": [
              "   purchased  time_on_site  mobile\n",
              "0       True     64.195339    True\n",
              "1      False    164.296636    True\n",
              "2      False    206.084172   False\n",
              "3      False     94.027370    True\n",
              "4      False    488.633714   False"
            ]
          },
          "metadata": {
            "tags": []
          },
          "execution_count": 87
        }
      ]
    },
    {
      "metadata": {
        "id": "sr6IJv77ulVl",
        "colab_type": "code",
        "outputId": "5d9698a2-321e-4ab4-ddc6-99f180fcd078",
        "colab": {
          "base_uri": "https://localhost:8080/",
          "height": 191
        }
      },
      "cell_type": "code",
      "source": [
        "# Let's use crosstabulation to try to see what's going on\n",
        "pd.crosstab(user_data['purchased'], user_data['time_on_site'])"
      ],
      "execution_count": 0,
      "outputs": [
        {
          "output_type": "execute_result",
          "data": {
            "text/html": [
              "<div>\n",
              "<style scoped>\n",
              "    .dataframe tbody tr th:only-of-type {\n",
              "        vertical-align: middle;\n",
              "    }\n",
              "\n",
              "    .dataframe tbody tr th {\n",
              "        vertical-align: top;\n",
              "    }\n",
              "\n",
              "    .dataframe thead th {\n",
              "        text-align: right;\n",
              "    }\n",
              "</style>\n",
              "<table border=\"1\" class=\"dataframe\">\n",
              "  <thead>\n",
              "    <tr style=\"text-align: right;\">\n",
              "      <th>time_on_site</th>\n",
              "      <th>6.470284202040581</th>\n",
              "      <th>6.503721657920575</th>\n",
              "      <th>7.200045932560037</th>\n",
              "      <th>7.248628162536775</th>\n",
              "      <th>7.289649254119713</th>\n",
              "      <th>7.448438929909733</th>\n",
              "      <th>7.786674483275108</th>\n",
              "      <th>7.932427283211361</th>\n",
              "      <th>7.947573403547031</th>\n",
              "      <th>8.399003847448505</th>\n",
              "      <th>...</th>\n",
              "      <th>577.4500515330384</th>\n",
              "      <th>587.9468737176468</th>\n",
              "      <th>589.27812037756</th>\n",
              "      <th>590.5698762925205</th>\n",
              "      <th>590.7393123237085</th>\n",
              "      <th>591.9811390758905</th>\n",
              "      <th>593.7200113856915</th>\n",
              "      <th>594.1573541408471</th>\n",
              "      <th>595.9909589338343</th>\n",
              "      <th>596.6514106001316</th>\n",
              "    </tr>\n",
              "    <tr>\n",
              "      <th>purchased</th>\n",
              "      <th></th>\n",
              "      <th></th>\n",
              "      <th></th>\n",
              "      <th></th>\n",
              "      <th></th>\n",
              "      <th></th>\n",
              "      <th></th>\n",
              "      <th></th>\n",
              "      <th></th>\n",
              "      <th></th>\n",
              "      <th></th>\n",
              "      <th></th>\n",
              "      <th></th>\n",
              "      <th></th>\n",
              "      <th></th>\n",
              "      <th></th>\n",
              "      <th></th>\n",
              "      <th></th>\n",
              "      <th></th>\n",
              "      <th></th>\n",
              "      <th></th>\n",
              "    </tr>\n",
              "  </thead>\n",
              "  <tbody>\n",
              "    <tr>\n",
              "      <th>False</th>\n",
              "      <td>1</td>\n",
              "      <td>1</td>\n",
              "      <td>1</td>\n",
              "      <td>1</td>\n",
              "      <td>1</td>\n",
              "      <td>1</td>\n",
              "      <td>0</td>\n",
              "      <td>1</td>\n",
              "      <td>0</td>\n",
              "      <td>1</td>\n",
              "      <td>...</td>\n",
              "      <td>1</td>\n",
              "      <td>1</td>\n",
              "      <td>1</td>\n",
              "      <td>1</td>\n",
              "      <td>1</td>\n",
              "      <td>1</td>\n",
              "      <td>1</td>\n",
              "      <td>1</td>\n",
              "      <td>0</td>\n",
              "      <td>1</td>\n",
              "    </tr>\n",
              "    <tr>\n",
              "      <th>True</th>\n",
              "      <td>0</td>\n",
              "      <td>0</td>\n",
              "      <td>0</td>\n",
              "      <td>0</td>\n",
              "      <td>0</td>\n",
              "      <td>0</td>\n",
              "      <td>1</td>\n",
              "      <td>0</td>\n",
              "      <td>1</td>\n",
              "      <td>0</td>\n",
              "      <td>...</td>\n",
              "      <td>0</td>\n",
              "      <td>0</td>\n",
              "      <td>0</td>\n",
              "      <td>0</td>\n",
              "      <td>0</td>\n",
              "      <td>0</td>\n",
              "      <td>0</td>\n",
              "      <td>0</td>\n",
              "      <td>1</td>\n",
              "      <td>0</td>\n",
              "    </tr>\n",
              "  </tbody>\n",
              "</table>\n",
              "<p>2 rows × 1000 columns</p>\n",
              "</div>"
            ],
            "text/plain": [
              "time_on_site  6.470284    6.503722    7.200046    7.248628    7.289649    \\\n",
              "purchased                                                                  \n",
              "False                  1           1           1           1           1   \n",
              "True                   0           0           0           0           0   \n",
              "\n",
              "time_on_site  7.448439    7.786674    7.932427    7.947573    8.399004    \\\n",
              "purchased                                                                  \n",
              "False                  1           0           1           0           1   \n",
              "True                   0           1           0           1           0   \n",
              "\n",
              "time_on_site     ...      577.450052  587.946874  589.278120  590.569876  \\\n",
              "purchased        ...                                                       \n",
              "False            ...               1           1           1           1   \n",
              "True             ...               0           0           0           0   \n",
              "\n",
              "time_on_site  590.739312  591.981139  593.720011  594.157354  595.990959  \\\n",
              "purchased                                                                  \n",
              "False                  1           1           1           1           0   \n",
              "True                   0           0           0           0           1   \n",
              "\n",
              "time_on_site  596.651411  \n",
              "purchased                 \n",
              "False                  1  \n",
              "True                   0  \n",
              "\n",
              "[2 rows x 1000 columns]"
            ]
          },
          "metadata": {
            "tags": []
          },
          "execution_count": 88
        }
      ]
    },
    {
      "metadata": {
        "id": "hvAv6J3EwA9s",
        "colab_type": "code",
        "outputId": "dfec8d11-9b02-4752-bddf-078f282f96b8",
        "colab": {
          "base_uri": "https://localhost:8080/",
          "height": 142
        }
      },
      "cell_type": "code",
      "source": [
        "# OK, that's not quite what we want\n",
        "# Time is continuous! We need to put it in discrete buckets\n",
        "# Pandas calls these bins, and pandas.cut helps make them\n",
        "\n",
        "time_bins = pd.cut(user_data['time_on_site'], 5)  # 5 equal-sized bins\n",
        "pd.crosstab(user_data['purchased'], time_bins)"
      ],
      "execution_count": 0,
      "outputs": [
        {
          "output_type": "execute_result",
          "data": {
            "text/html": [
              "<div>\n",
              "<style scoped>\n",
              "    .dataframe tbody tr th:only-of-type {\n",
              "        vertical-align: middle;\n",
              "    }\n",
              "\n",
              "    .dataframe tbody tr th {\n",
              "        vertical-align: top;\n",
              "    }\n",
              "\n",
              "    .dataframe thead th {\n",
              "        text-align: right;\n",
              "    }\n",
              "</style>\n",
              "<table border=\"1\" class=\"dataframe\">\n",
              "  <thead>\n",
              "    <tr style=\"text-align: right;\">\n",
              "      <th>time_on_site</th>\n",
              "      <th>(5.88, 124.507]</th>\n",
              "      <th>(124.507, 242.543]</th>\n",
              "      <th>(242.543, 360.579]</th>\n",
              "      <th>(360.579, 478.615]</th>\n",
              "      <th>(478.615, 596.651]</th>\n",
              "    </tr>\n",
              "    <tr>\n",
              "      <th>purchased</th>\n",
              "      <th></th>\n",
              "      <th></th>\n",
              "      <th></th>\n",
              "      <th></th>\n",
              "      <th></th>\n",
              "    </tr>\n",
              "  </thead>\n",
              "  <tbody>\n",
              "    <tr>\n",
              "      <th>False</th>\n",
              "      <td>289</td>\n",
              "      <td>284</td>\n",
              "      <td>151</td>\n",
              "      <td>50</td>\n",
              "      <td>59</td>\n",
              "    </tr>\n",
              "    <tr>\n",
              "      <th>True</th>\n",
              "      <td>68</td>\n",
              "      <td>59</td>\n",
              "      <td>27</td>\n",
              "      <td>5</td>\n",
              "      <td>8</td>\n",
              "    </tr>\n",
              "  </tbody>\n",
              "</table>\n",
              "</div>"
            ],
            "text/plain": [
              "time_on_site  (5.88, 124.507]  (124.507, 242.543]  (242.543, 360.579]  \\\n",
              "purchased                                                               \n",
              "False                     289                 284                 151   \n",
              "True                       68                  59                  27   \n",
              "\n",
              "time_on_site  (360.579, 478.615]  (478.615, 596.651]  \n",
              "purchased                                             \n",
              "False                         50                  59  \n",
              "True                           5                   8  "
            ]
          },
          "metadata": {
            "tags": []
          },
          "execution_count": 89
        }
      ]
    },
    {
      "metadata": {
        "id": "pjcXnJw0wfaj",
        "colab_type": "code",
        "outputId": "399f2625-80de-48d9-d20a-88aa8e3fffcf",
        "colab": {
          "base_uri": "https://localhost:8080/",
          "height": 142
        }
      },
      "cell_type": "code",
      "source": [
        "# We can make this a bit clearer by normalizing (getting %)\n",
        "pd.crosstab(user_data['purchased'], time_bins, normalize='columns')"
      ],
      "execution_count": 0,
      "outputs": [
        {
          "output_type": "execute_result",
          "data": {
            "text/html": [
              "<div>\n",
              "<style scoped>\n",
              "    .dataframe tbody tr th:only-of-type {\n",
              "        vertical-align: middle;\n",
              "    }\n",
              "\n",
              "    .dataframe tbody tr th {\n",
              "        vertical-align: top;\n",
              "    }\n",
              "\n",
              "    .dataframe thead th {\n",
              "        text-align: right;\n",
              "    }\n",
              "</style>\n",
              "<table border=\"1\" class=\"dataframe\">\n",
              "  <thead>\n",
              "    <tr style=\"text-align: right;\">\n",
              "      <th>time_on_site</th>\n",
              "      <th>(5.88, 124.507]</th>\n",
              "      <th>(124.507, 242.543]</th>\n",
              "      <th>(242.543, 360.579]</th>\n",
              "      <th>(360.579, 478.615]</th>\n",
              "      <th>(478.615, 596.651]</th>\n",
              "    </tr>\n",
              "    <tr>\n",
              "      <th>purchased</th>\n",
              "      <th></th>\n",
              "      <th></th>\n",
              "      <th></th>\n",
              "      <th></th>\n",
              "      <th></th>\n",
              "    </tr>\n",
              "  </thead>\n",
              "  <tbody>\n",
              "    <tr>\n",
              "      <th>False</th>\n",
              "      <td>0.809524</td>\n",
              "      <td>0.827988</td>\n",
              "      <td>0.848315</td>\n",
              "      <td>0.909091</td>\n",
              "      <td>0.880597</td>\n",
              "    </tr>\n",
              "    <tr>\n",
              "      <th>True</th>\n",
              "      <td>0.190476</td>\n",
              "      <td>0.172012</td>\n",
              "      <td>0.151685</td>\n",
              "      <td>0.090909</td>\n",
              "      <td>0.119403</td>\n",
              "    </tr>\n",
              "  </tbody>\n",
              "</table>\n",
              "</div>"
            ],
            "text/plain": [
              "time_on_site  (5.88, 124.507]  (124.507, 242.543]  (242.543, 360.579]  \\\n",
              "purchased                                                               \n",
              "False                0.809524            0.827988            0.848315   \n",
              "True                 0.190476            0.172012            0.151685   \n",
              "\n",
              "time_on_site  (360.579, 478.615]  (478.615, 596.651]  \n",
              "purchased                                             \n",
              "False                   0.909091            0.880597  \n",
              "True                    0.090909            0.119403  "
            ]
          },
          "metadata": {
            "tags": []
          },
          "execution_count": 90
        }
      ]
    },
    {
      "metadata": {
        "id": "C3GzvDxlvZMa",
        "colab_type": "code",
        "outputId": "98a167cb-3aa7-484e-b730-956da6c1dcf3",
        "colab": {
          "base_uri": "https://localhost:8080/",
          "height": 142
        }
      },
      "cell_type": "code",
      "source": [
        "# That seems counter to our hypothesis\n",
        "# More time on the site seems to have fewer purchases\n",
        "\n",
        "# But we know why, since we generated the data!\n",
        "# Let's look at mobile and purchased\n",
        "pd.crosstab(user_data['purchased'], user_data['mobile'], normalize='columns')"
      ],
      "execution_count": 0,
      "outputs": [
        {
          "output_type": "execute_result",
          "data": {
            "text/html": [
              "<div>\n",
              "<style scoped>\n",
              "    .dataframe tbody tr th:only-of-type {\n",
              "        vertical-align: middle;\n",
              "    }\n",
              "\n",
              "    .dataframe tbody tr th {\n",
              "        vertical-align: top;\n",
              "    }\n",
              "\n",
              "    .dataframe thead th {\n",
              "        text-align: right;\n",
              "    }\n",
              "</style>\n",
              "<table border=\"1\" class=\"dataframe\">\n",
              "  <thead>\n",
              "    <tr style=\"text-align: right;\">\n",
              "      <th>mobile</th>\n",
              "      <th>False</th>\n",
              "      <th>True</th>\n",
              "    </tr>\n",
              "    <tr>\n",
              "      <th>purchased</th>\n",
              "      <th></th>\n",
              "      <th></th>\n",
              "    </tr>\n",
              "  </thead>\n",
              "  <tbody>\n",
              "    <tr>\n",
              "      <th>False</th>\n",
              "      <td>0.916</td>\n",
              "      <td>0.805333</td>\n",
              "    </tr>\n",
              "    <tr>\n",
              "      <th>True</th>\n",
              "      <td>0.084</td>\n",
              "      <td>0.194667</td>\n",
              "    </tr>\n",
              "  </tbody>\n",
              "</table>\n",
              "</div>"
            ],
            "text/plain": [
              "mobile     False     True \n",
              "purchased                 \n",
              "False      0.916  0.805333\n",
              "True       0.084  0.194667"
            ]
          },
          "metadata": {
            "tags": []
          },
          "execution_count": 91
        }
      ]
    },
    {
      "metadata": {
        "id": "KQb-wU60xCum",
        "colab_type": "code",
        "outputId": "c40b5214-44d6-4558-9049-772a46ff685d",
        "colab": {
          "base_uri": "https://localhost:8080/",
          "height": 266
        }
      },
      "cell_type": "code",
      "source": [
        "# Yep, mobile users are more likely to buy things\n",
        "# But we're still not seeing the *whole* story until we look at all 3 at once\n",
        "\n",
        "# Live/stretch goal - how can we do that?\n",
        "\n",
        "a= time_bins\n",
        "b = user_data['purchased']\n",
        "c = user_data['mobile']\n",
        "\n",
        "\n",
        "pd.crosstab(a, [b, c], rownames=['time_bins'], colnames=['purchased', 'mobile'], normalize='index')"
      ],
      "execution_count": 0,
      "outputs": [
        {
          "output_type": "execute_result",
          "data": {
            "text/html": [
              "<div>\n",
              "<style scoped>\n",
              "    .dataframe tbody tr th:only-of-type {\n",
              "        vertical-align: middle;\n",
              "    }\n",
              "\n",
              "    .dataframe tbody tr th {\n",
              "        vertical-align: top;\n",
              "    }\n",
              "\n",
              "    .dataframe thead tr th {\n",
              "        text-align: left;\n",
              "    }\n",
              "\n",
              "    .dataframe thead tr:last-of-type th {\n",
              "        text-align: right;\n",
              "    }\n",
              "</style>\n",
              "<table border=\"1\" class=\"dataframe\">\n",
              "  <thead>\n",
              "    <tr>\n",
              "      <th>purchased</th>\n",
              "      <th colspan=\"2\" halign=\"left\">False</th>\n",
              "      <th colspan=\"2\" halign=\"left\">True</th>\n",
              "    </tr>\n",
              "    <tr>\n",
              "      <th>mobile</th>\n",
              "      <th>False</th>\n",
              "      <th>True</th>\n",
              "      <th>False</th>\n",
              "      <th>True</th>\n",
              "    </tr>\n",
              "    <tr>\n",
              "      <th>time_bins</th>\n",
              "      <th></th>\n",
              "      <th></th>\n",
              "      <th></th>\n",
              "      <th></th>\n",
              "    </tr>\n",
              "  </thead>\n",
              "  <tbody>\n",
              "    <tr>\n",
              "      <th>(5.88, 124.507]</th>\n",
              "      <td>0.103641</td>\n",
              "      <td>0.705882</td>\n",
              "      <td>0.005602</td>\n",
              "      <td>0.184874</td>\n",
              "    </tr>\n",
              "    <tr>\n",
              "      <th>(124.507, 242.543]</th>\n",
              "      <td>0.137026</td>\n",
              "      <td>0.690962</td>\n",
              "      <td>0.011662</td>\n",
              "      <td>0.160350</td>\n",
              "    </tr>\n",
              "    <tr>\n",
              "      <th>(242.543, 360.579]</th>\n",
              "      <td>0.202247</td>\n",
              "      <td>0.646067</td>\n",
              "      <td>0.011236</td>\n",
              "      <td>0.140449</td>\n",
              "    </tr>\n",
              "    <tr>\n",
              "      <th>(360.579, 478.615]</th>\n",
              "      <td>0.909091</td>\n",
              "      <td>0.000000</td>\n",
              "      <td>0.090909</td>\n",
              "      <td>0.000000</td>\n",
              "    </tr>\n",
              "    <tr>\n",
              "      <th>(478.615, 596.651]</th>\n",
              "      <td>0.880597</td>\n",
              "      <td>0.000000</td>\n",
              "      <td>0.119403</td>\n",
              "      <td>0.000000</td>\n",
              "    </tr>\n",
              "  </tbody>\n",
              "</table>\n",
              "</div>"
            ],
            "text/plain": [
              "purchased              False               True           \n",
              "mobile                 False     True      False     True \n",
              "time_bins                                                 \n",
              "(5.88, 124.507]     0.103641  0.705882  0.005602  0.184874\n",
              "(124.507, 242.543]  0.137026  0.690962  0.011662  0.160350\n",
              "(242.543, 360.579]  0.202247  0.646067  0.011236  0.140449\n",
              "(360.579, 478.615]  0.909091  0.000000  0.090909  0.000000\n",
              "(478.615, 596.651]  0.880597  0.000000  0.119403  0.000000"
            ]
          },
          "metadata": {
            "tags": []
          },
          "execution_count": 92
        }
      ]
    },
    {
      "metadata": {
        "id": "PFihiifsLn6C",
        "colab_type": "code",
        "outputId": "cc16eb01-c7d4-487b-c467-6cf773a30c2c",
        "colab": {
          "base_uri": "https://localhost:8080/",
          "height": 266
        }
      },
      "cell_type": "code",
      "source": [
        "a= time_bins\n",
        "b = user_data['purchased']\n",
        "c = user_data['mobile']\n",
        "\n",
        "\n",
        "pd.crosstab(a, [b, c], rownames=['time_bins'], colnames=['purchased', 'mobile'], normalize='columns')"
      ],
      "execution_count": 0,
      "outputs": [
        {
          "output_type": "execute_result",
          "data": {
            "text/html": [
              "<div>\n",
              "<style scoped>\n",
              "    .dataframe tbody tr th:only-of-type {\n",
              "        vertical-align: middle;\n",
              "    }\n",
              "\n",
              "    .dataframe tbody tr th {\n",
              "        vertical-align: top;\n",
              "    }\n",
              "\n",
              "    .dataframe thead tr th {\n",
              "        text-align: left;\n",
              "    }\n",
              "\n",
              "    .dataframe thead tr:last-of-type th {\n",
              "        text-align: right;\n",
              "    }\n",
              "</style>\n",
              "<table border=\"1\" class=\"dataframe\">\n",
              "  <thead>\n",
              "    <tr>\n",
              "      <th>purchased</th>\n",
              "      <th colspan=\"2\" halign=\"left\">False</th>\n",
              "      <th colspan=\"2\" halign=\"left\">True</th>\n",
              "    </tr>\n",
              "    <tr>\n",
              "      <th>mobile</th>\n",
              "      <th>False</th>\n",
              "      <th>True</th>\n",
              "      <th>False</th>\n",
              "      <th>True</th>\n",
              "    </tr>\n",
              "    <tr>\n",
              "      <th>time_bins</th>\n",
              "      <th></th>\n",
              "      <th></th>\n",
              "      <th></th>\n",
              "      <th></th>\n",
              "    </tr>\n",
              "  </thead>\n",
              "  <tbody>\n",
              "    <tr>\n",
              "      <th>(5.88, 124.507]</th>\n",
              "      <td>0.161572</td>\n",
              "      <td>0.417219</td>\n",
              "      <td>0.095238</td>\n",
              "      <td>0.452055</td>\n",
              "    </tr>\n",
              "    <tr>\n",
              "      <th>(124.507, 242.543]</th>\n",
              "      <td>0.205240</td>\n",
              "      <td>0.392384</td>\n",
              "      <td>0.190476</td>\n",
              "      <td>0.376712</td>\n",
              "    </tr>\n",
              "    <tr>\n",
              "      <th>(242.543, 360.579]</th>\n",
              "      <td>0.157205</td>\n",
              "      <td>0.190397</td>\n",
              "      <td>0.095238</td>\n",
              "      <td>0.171233</td>\n",
              "    </tr>\n",
              "    <tr>\n",
              "      <th>(360.579, 478.615]</th>\n",
              "      <td>0.218341</td>\n",
              "      <td>0.000000</td>\n",
              "      <td>0.238095</td>\n",
              "      <td>0.000000</td>\n",
              "    </tr>\n",
              "    <tr>\n",
              "      <th>(478.615, 596.651]</th>\n",
              "      <td>0.257642</td>\n",
              "      <td>0.000000</td>\n",
              "      <td>0.380952</td>\n",
              "      <td>0.000000</td>\n",
              "    </tr>\n",
              "  </tbody>\n",
              "</table>\n",
              "</div>"
            ],
            "text/plain": [
              "purchased              False               True           \n",
              "mobile                 False     True      False     True \n",
              "time_bins                                                 \n",
              "(5.88, 124.507]     0.161572  0.417219  0.095238  0.452055\n",
              "(124.507, 242.543]  0.205240  0.392384  0.190476  0.376712\n",
              "(242.543, 360.579]  0.157205  0.190397  0.095238  0.171233\n",
              "(360.579, 478.615]  0.218341  0.000000  0.238095  0.000000\n",
              "(478.615, 596.651]  0.257642  0.000000  0.380952  0.000000"
            ]
          },
          "metadata": {
            "tags": []
          },
          "execution_count": 93
        }
      ]
    },
    {
      "metadata": {
        "id": "scLOISq7LrLf",
        "colab_type": "code",
        "outputId": "db3bbdce-adc8-4d49-f727-674de0d615b2",
        "colab": {
          "base_uri": "https://localhost:8080/",
          "height": 266
        }
      },
      "cell_type": "code",
      "source": [
        "a= time_bins\n",
        "b = user_data['purchased']\n",
        "c = user_data['mobile']\n",
        "\n",
        "\n",
        "pd.crosstab(a, [b, c], rownames=['time_bins'], colnames=['purchased', 'mobile'], normalize='all')"
      ],
      "execution_count": 0,
      "outputs": [
        {
          "output_type": "execute_result",
          "data": {
            "text/html": [
              "<div>\n",
              "<style scoped>\n",
              "    .dataframe tbody tr th:only-of-type {\n",
              "        vertical-align: middle;\n",
              "    }\n",
              "\n",
              "    .dataframe tbody tr th {\n",
              "        vertical-align: top;\n",
              "    }\n",
              "\n",
              "    .dataframe thead tr th {\n",
              "        text-align: left;\n",
              "    }\n",
              "\n",
              "    .dataframe thead tr:last-of-type th {\n",
              "        text-align: right;\n",
              "    }\n",
              "</style>\n",
              "<table border=\"1\" class=\"dataframe\">\n",
              "  <thead>\n",
              "    <tr>\n",
              "      <th>purchased</th>\n",
              "      <th colspan=\"2\" halign=\"left\">False</th>\n",
              "      <th colspan=\"2\" halign=\"left\">True</th>\n",
              "    </tr>\n",
              "    <tr>\n",
              "      <th>mobile</th>\n",
              "      <th>False</th>\n",
              "      <th>True</th>\n",
              "      <th>False</th>\n",
              "      <th>True</th>\n",
              "    </tr>\n",
              "    <tr>\n",
              "      <th>time_bins</th>\n",
              "      <th></th>\n",
              "      <th></th>\n",
              "      <th></th>\n",
              "      <th></th>\n",
              "    </tr>\n",
              "  </thead>\n",
              "  <tbody>\n",
              "    <tr>\n",
              "      <th>(5.88, 124.507]</th>\n",
              "      <td>0.037</td>\n",
              "      <td>0.252</td>\n",
              "      <td>0.002</td>\n",
              "      <td>0.066</td>\n",
              "    </tr>\n",
              "    <tr>\n",
              "      <th>(124.507, 242.543]</th>\n",
              "      <td>0.047</td>\n",
              "      <td>0.237</td>\n",
              "      <td>0.004</td>\n",
              "      <td>0.055</td>\n",
              "    </tr>\n",
              "    <tr>\n",
              "      <th>(242.543, 360.579]</th>\n",
              "      <td>0.036</td>\n",
              "      <td>0.115</td>\n",
              "      <td>0.002</td>\n",
              "      <td>0.025</td>\n",
              "    </tr>\n",
              "    <tr>\n",
              "      <th>(360.579, 478.615]</th>\n",
              "      <td>0.050</td>\n",
              "      <td>0.000</td>\n",
              "      <td>0.005</td>\n",
              "      <td>0.000</td>\n",
              "    </tr>\n",
              "    <tr>\n",
              "      <th>(478.615, 596.651]</th>\n",
              "      <td>0.059</td>\n",
              "      <td>0.000</td>\n",
              "      <td>0.008</td>\n",
              "      <td>0.000</td>\n",
              "    </tr>\n",
              "  </tbody>\n",
              "</table>\n",
              "</div>"
            ],
            "text/plain": [
              "purchased           False         True        \n",
              "mobile              False  True   False  True \n",
              "time_bins                                     \n",
              "(5.88, 124.507]     0.037  0.252  0.002  0.066\n",
              "(124.507, 242.543]  0.047  0.237  0.004  0.055\n",
              "(242.543, 360.579]  0.036  0.115  0.002  0.025\n",
              "(360.579, 478.615]  0.050  0.000  0.005  0.000\n",
              "(478.615, 596.651]  0.059  0.000  0.008  0.000"
            ]
          },
          "metadata": {
            "tags": []
          },
          "execution_count": 94
        }
      ]
    },
    {
      "metadata": {
        "id": "lOqaPds9huME",
        "colab_type": "text"
      },
      "cell_type": "markdown",
      "source": [
        "## Assignment - what's going on here?\n",
        "\n",
        "Consider the data in `persons.csv` (already prepared for you, in the repo for the week). It has four columns - a unique id, followed by age (in years), weight (in lbs), and exercise time (in minutes/week) of 1200 (hypothetical) people.\n",
        "\n",
        "Try to figure out which variables are possibly related to each other, and which may be confounding relationships."
      ]
    },
    {
      "metadata": {
        "id": "TGUS79cOhPWj",
        "colab_type": "code",
        "outputId": "6b7362c5-474c-46f0-a430-5f71e44dc035",
        "colab": {
          "base_uri": "https://localhost:8080/",
          "height": 204
        }
      },
      "cell_type": "code",
      "source": [
        "# Load data into dataframe\n",
        "import pandas as pd\n",
        "df = pd.read_csv(\"https://raw.githubusercontent.com/zyrtecdos/DS-Sprint-01-Dealing-With-Data/master/module4-databackedassertions/persons.csv\")\n",
        "df.head()"
      ],
      "execution_count": 0,
      "outputs": [
        {
          "output_type": "execute_result",
          "data": {
            "text/html": [
              "<div>\n",
              "<style scoped>\n",
              "    .dataframe tbody tr th:only-of-type {\n",
              "        vertical-align: middle;\n",
              "    }\n",
              "\n",
              "    .dataframe tbody tr th {\n",
              "        vertical-align: top;\n",
              "    }\n",
              "\n",
              "    .dataframe thead th {\n",
              "        text-align: right;\n",
              "    }\n",
              "</style>\n",
              "<table border=\"1\" class=\"dataframe\">\n",
              "  <thead>\n",
              "    <tr style=\"text-align: right;\">\n",
              "      <th></th>\n",
              "      <th>Unnamed: 0</th>\n",
              "      <th>age</th>\n",
              "      <th>weight</th>\n",
              "      <th>exercise_time</th>\n",
              "    </tr>\n",
              "  </thead>\n",
              "  <tbody>\n",
              "    <tr>\n",
              "      <th>0</th>\n",
              "      <td>0</td>\n",
              "      <td>44</td>\n",
              "      <td>118</td>\n",
              "      <td>192</td>\n",
              "    </tr>\n",
              "    <tr>\n",
              "      <th>1</th>\n",
              "      <td>1</td>\n",
              "      <td>41</td>\n",
              "      <td>161</td>\n",
              "      <td>35</td>\n",
              "    </tr>\n",
              "    <tr>\n",
              "      <th>2</th>\n",
              "      <td>2</td>\n",
              "      <td>46</td>\n",
              "      <td>128</td>\n",
              "      <td>220</td>\n",
              "    </tr>\n",
              "    <tr>\n",
              "      <th>3</th>\n",
              "      <td>3</td>\n",
              "      <td>39</td>\n",
              "      <td>216</td>\n",
              "      <td>57</td>\n",
              "    </tr>\n",
              "    <tr>\n",
              "      <th>4</th>\n",
              "      <td>4</td>\n",
              "      <td>28</td>\n",
              "      <td>116</td>\n",
              "      <td>182</td>\n",
              "    </tr>\n",
              "  </tbody>\n",
              "</table>\n",
              "</div>"
            ],
            "text/plain": [
              "   Unnamed: 0  age  weight  exercise_time\n",
              "0           0   44     118            192\n",
              "1           1   41     161             35\n",
              "2           2   46     128            220\n",
              "3           3   39     216             57\n",
              "4           4   28     116            182"
            ]
          },
          "metadata": {
            "tags": []
          },
          "execution_count": 95
        }
      ]
    },
    {
      "metadata": {
        "id": "0XeiI9UzSpR4",
        "colab_type": "code",
        "outputId": "a5e9780c-c67b-462e-edb1-9010197946f3",
        "colab": {
          "base_uri": "https://localhost:8080/",
          "height": 297
        }
      },
      "cell_type": "code",
      "source": [
        "# preview the dataset\n",
        "df.describe(include='all')"
      ],
      "execution_count": 0,
      "outputs": [
        {
          "output_type": "execute_result",
          "data": {
            "text/html": [
              "<div>\n",
              "<style scoped>\n",
              "    .dataframe tbody tr th:only-of-type {\n",
              "        vertical-align: middle;\n",
              "    }\n",
              "\n",
              "    .dataframe tbody tr th {\n",
              "        vertical-align: top;\n",
              "    }\n",
              "\n",
              "    .dataframe thead th {\n",
              "        text-align: right;\n",
              "    }\n",
              "</style>\n",
              "<table border=\"1\" class=\"dataframe\">\n",
              "  <thead>\n",
              "    <tr style=\"text-align: right;\">\n",
              "      <th></th>\n",
              "      <th>Unnamed: 0</th>\n",
              "      <th>age</th>\n",
              "      <th>weight</th>\n",
              "      <th>exercise_time</th>\n",
              "    </tr>\n",
              "  </thead>\n",
              "  <tbody>\n",
              "    <tr>\n",
              "      <th>count</th>\n",
              "      <td>1200.000000</td>\n",
              "      <td>1200.000000</td>\n",
              "      <td>1200.000000</td>\n",
              "      <td>1200.000000</td>\n",
              "    </tr>\n",
              "    <tr>\n",
              "      <th>mean</th>\n",
              "      <td>599.500000</td>\n",
              "      <td>48.396667</td>\n",
              "      <td>153.540833</td>\n",
              "      <td>134.910833</td>\n",
              "    </tr>\n",
              "    <tr>\n",
              "      <th>std</th>\n",
              "      <td>346.554469</td>\n",
              "      <td>18.166802</td>\n",
              "      <td>35.132182</td>\n",
              "      <td>85.548895</td>\n",
              "    </tr>\n",
              "    <tr>\n",
              "      <th>min</th>\n",
              "      <td>0.000000</td>\n",
              "      <td>18.000000</td>\n",
              "      <td>100.000000</td>\n",
              "      <td>0.000000</td>\n",
              "    </tr>\n",
              "    <tr>\n",
              "      <th>25%</th>\n",
              "      <td>299.750000</td>\n",
              "      <td>33.000000</td>\n",
              "      <td>125.000000</td>\n",
              "      <td>65.000000</td>\n",
              "    </tr>\n",
              "    <tr>\n",
              "      <th>50%</th>\n",
              "      <td>599.500000</td>\n",
              "      <td>48.000000</td>\n",
              "      <td>149.000000</td>\n",
              "      <td>122.000000</td>\n",
              "    </tr>\n",
              "    <tr>\n",
              "      <th>75%</th>\n",
              "      <td>899.250000</td>\n",
              "      <td>64.000000</td>\n",
              "      <td>180.250000</td>\n",
              "      <td>206.000000</td>\n",
              "    </tr>\n",
              "    <tr>\n",
              "      <th>max</th>\n",
              "      <td>1199.000000</td>\n",
              "      <td>80.000000</td>\n",
              "      <td>246.000000</td>\n",
              "      <td>300.000000</td>\n",
              "    </tr>\n",
              "  </tbody>\n",
              "</table>\n",
              "</div>"
            ],
            "text/plain": [
              "        Unnamed: 0          age       weight  exercise_time\n",
              "count  1200.000000  1200.000000  1200.000000    1200.000000\n",
              "mean    599.500000    48.396667   153.540833     134.910833\n",
              "std     346.554469    18.166802    35.132182      85.548895\n",
              "min       0.000000    18.000000   100.000000       0.000000\n",
              "25%     299.750000    33.000000   125.000000      65.000000\n",
              "50%     599.500000    48.000000   149.000000     122.000000\n",
              "75%     899.250000    64.000000   180.250000     206.000000\n",
              "max    1199.000000    80.000000   246.000000     300.000000"
            ]
          },
          "metadata": {
            "tags": []
          },
          "execution_count": 96
        }
      ]
    },
    {
      "metadata": {
        "id": "cpG8CFvraFYx",
        "colab_type": "code",
        "outputId": "dea9e160-7517-438a-8db8-96f82399967c",
        "colab": {
          "base_uri": "https://localhost:8080/",
          "height": 173
        }
      },
      "cell_type": "code",
      "source": [
        "df.corr()"
      ],
      "execution_count": 0,
      "outputs": [
        {
          "output_type": "execute_result",
          "data": {
            "text/html": [
              "<div>\n",
              "<style scoped>\n",
              "    .dataframe tbody tr th:only-of-type {\n",
              "        vertical-align: middle;\n",
              "    }\n",
              "\n",
              "    .dataframe tbody tr th {\n",
              "        vertical-align: top;\n",
              "    }\n",
              "\n",
              "    .dataframe thead th {\n",
              "        text-align: right;\n",
              "    }\n",
              "</style>\n",
              "<table border=\"1\" class=\"dataframe\">\n",
              "  <thead>\n",
              "    <tr style=\"text-align: right;\">\n",
              "      <th></th>\n",
              "      <th>Unnamed: 0</th>\n",
              "      <th>age</th>\n",
              "      <th>weight</th>\n",
              "      <th>exercise_time</th>\n",
              "    </tr>\n",
              "  </thead>\n",
              "  <tbody>\n",
              "    <tr>\n",
              "      <th>Unnamed: 0</th>\n",
              "      <td>1.000000</td>\n",
              "      <td>-0.000418</td>\n",
              "      <td>-0.060297</td>\n",
              "      <td>-0.020138</td>\n",
              "    </tr>\n",
              "    <tr>\n",
              "      <th>age</th>\n",
              "      <td>-0.000418</td>\n",
              "      <td>1.000000</td>\n",
              "      <td>0.144168</td>\n",
              "      <td>-0.273818</td>\n",
              "    </tr>\n",
              "    <tr>\n",
              "      <th>weight</th>\n",
              "      <td>-0.060297</td>\n",
              "      <td>0.144168</td>\n",
              "      <td>1.000000</td>\n",
              "      <td>-0.478021</td>\n",
              "    </tr>\n",
              "    <tr>\n",
              "      <th>exercise_time</th>\n",
              "      <td>-0.020138</td>\n",
              "      <td>-0.273818</td>\n",
              "      <td>-0.478021</td>\n",
              "      <td>1.000000</td>\n",
              "    </tr>\n",
              "  </tbody>\n",
              "</table>\n",
              "</div>"
            ],
            "text/plain": [
              "               Unnamed: 0       age    weight  exercise_time\n",
              "Unnamed: 0       1.000000 -0.000418 -0.060297      -0.020138\n",
              "age             -0.000418  1.000000  0.144168      -0.273818\n",
              "weight          -0.060297  0.144168  1.000000      -0.478021\n",
              "exercise_time   -0.020138 -0.273818 -0.478021       1.000000"
            ]
          },
          "metadata": {
            "tags": []
          },
          "execution_count": 97
        }
      ]
    },
    {
      "metadata": {
        "id": "CQNcr877MYBP",
        "colab_type": "code",
        "outputId": "372797ca-d453-4128-f3a9-d7d0e84bbd8c",
        "colab": {
          "base_uri": "https://localhost:8080/",
          "height": 235
        }
      },
      "cell_type": "code",
      "source": [
        "# need to put time, weight, age into a list because they are all continuous variables\n",
        "time_bins = pd.cut(df['exercise_time'], 5)  # 5 equal-sized bins\n",
        "age_bins = pd.cut(df['age'], 5)\n",
        "weight_bins = pd.cut(df['weight'], 5)\n",
        "# Explore the relationship between age and exercise time by column\n",
        "pd.crosstab(age_bins, time_bins, normalize='columns')"
      ],
      "execution_count": 0,
      "outputs": [
        {
          "output_type": "execute_result",
          "data": {
            "text/html": [
              "<div>\n",
              "<style scoped>\n",
              "    .dataframe tbody tr th:only-of-type {\n",
              "        vertical-align: middle;\n",
              "    }\n",
              "\n",
              "    .dataframe tbody tr th {\n",
              "        vertical-align: top;\n",
              "    }\n",
              "\n",
              "    .dataframe thead th {\n",
              "        text-align: right;\n",
              "    }\n",
              "</style>\n",
              "<table border=\"1\" class=\"dataframe\">\n",
              "  <thead>\n",
              "    <tr style=\"text-align: right;\">\n",
              "      <th>exercise_time</th>\n",
              "      <th>(-0.3, 60.0]</th>\n",
              "      <th>(60.0, 120.0]</th>\n",
              "      <th>(120.0, 180.0]</th>\n",
              "      <th>(180.0, 240.0]</th>\n",
              "      <th>(240.0, 300.0]</th>\n",
              "    </tr>\n",
              "    <tr>\n",
              "      <th>age</th>\n",
              "      <th></th>\n",
              "      <th></th>\n",
              "      <th></th>\n",
              "      <th></th>\n",
              "      <th></th>\n",
              "    </tr>\n",
              "  </thead>\n",
              "  <tbody>\n",
              "    <tr>\n",
              "      <th>(17.938, 30.4]</th>\n",
              "      <td>0.187050</td>\n",
              "      <td>0.145570</td>\n",
              "      <td>0.242152</td>\n",
              "      <td>0.317708</td>\n",
              "      <td>0.225131</td>\n",
              "    </tr>\n",
              "    <tr>\n",
              "      <th>(30.4, 42.8]</th>\n",
              "      <td>0.187050</td>\n",
              "      <td>0.174051</td>\n",
              "      <td>0.188341</td>\n",
              "      <td>0.244792</td>\n",
              "      <td>0.298429</td>\n",
              "    </tr>\n",
              "    <tr>\n",
              "      <th>(42.8, 55.2]</th>\n",
              "      <td>0.147482</td>\n",
              "      <td>0.132911</td>\n",
              "      <td>0.174888</td>\n",
              "      <td>0.177083</td>\n",
              "      <td>0.350785</td>\n",
              "    </tr>\n",
              "    <tr>\n",
              "      <th>(55.2, 67.6]</th>\n",
              "      <td>0.165468</td>\n",
              "      <td>0.224684</td>\n",
              "      <td>0.179372</td>\n",
              "      <td>0.213542</td>\n",
              "      <td>0.125654</td>\n",
              "    </tr>\n",
              "    <tr>\n",
              "      <th>(67.6, 80.0]</th>\n",
              "      <td>0.312950</td>\n",
              "      <td>0.322785</td>\n",
              "      <td>0.215247</td>\n",
              "      <td>0.046875</td>\n",
              "      <td>0.000000</td>\n",
              "    </tr>\n",
              "  </tbody>\n",
              "</table>\n",
              "</div>"
            ],
            "text/plain": [
              "exercise_time   (-0.3, 60.0]  (60.0, 120.0]  (120.0, 180.0]  (180.0, 240.0]  \\\n",
              "age                                                                           \n",
              "(17.938, 30.4]      0.187050       0.145570        0.242152        0.317708   \n",
              "(30.4, 42.8]        0.187050       0.174051        0.188341        0.244792   \n",
              "(42.8, 55.2]        0.147482       0.132911        0.174888        0.177083   \n",
              "(55.2, 67.6]        0.165468       0.224684        0.179372        0.213542   \n",
              "(67.6, 80.0]        0.312950       0.322785        0.215247        0.046875   \n",
              "\n",
              "exercise_time   (240.0, 300.0]  \n",
              "age                             \n",
              "(17.938, 30.4]        0.225131  \n",
              "(30.4, 42.8]          0.298429  \n",
              "(42.8, 55.2]          0.350785  \n",
              "(55.2, 67.6]          0.125654  \n",
              "(67.6, 80.0]          0.000000  "
            ]
          },
          "metadata": {
            "tags": []
          },
          "execution_count": 98
        }
      ]
    },
    {
      "metadata": {
        "id": "Hhry0h7BYxTO",
        "colab_type": "code",
        "outputId": "9096a617-7d86-41f0-c2f3-4111b04998b5",
        "colab": {
          "base_uri": "https://localhost:8080/",
          "height": 235
        }
      },
      "cell_type": "code",
      "source": [
        "# Explore the relationship between age and exercise time by row\n",
        "pd.crosstab(age_bins, time_bins, normalize='index')"
      ],
      "execution_count": 0,
      "outputs": [
        {
          "output_type": "execute_result",
          "data": {
            "text/html": [
              "<div>\n",
              "<style scoped>\n",
              "    .dataframe tbody tr th:only-of-type {\n",
              "        vertical-align: middle;\n",
              "    }\n",
              "\n",
              "    .dataframe tbody tr th {\n",
              "        vertical-align: top;\n",
              "    }\n",
              "\n",
              "    .dataframe thead th {\n",
              "        text-align: right;\n",
              "    }\n",
              "</style>\n",
              "<table border=\"1\" class=\"dataframe\">\n",
              "  <thead>\n",
              "    <tr style=\"text-align: right;\">\n",
              "      <th>exercise_time</th>\n",
              "      <th>(-0.3, 60.0]</th>\n",
              "      <th>(60.0, 120.0]</th>\n",
              "      <th>(120.0, 180.0]</th>\n",
              "      <th>(180.0, 240.0]</th>\n",
              "      <th>(240.0, 300.0]</th>\n",
              "    </tr>\n",
              "    <tr>\n",
              "      <th>age</th>\n",
              "      <th></th>\n",
              "      <th></th>\n",
              "      <th></th>\n",
              "      <th></th>\n",
              "      <th></th>\n",
              "    </tr>\n",
              "  </thead>\n",
              "  <tbody>\n",
              "    <tr>\n",
              "      <th>(17.938, 30.4]</th>\n",
              "      <td>0.203125</td>\n",
              "      <td>0.179688</td>\n",
              "      <td>0.210938</td>\n",
              "      <td>0.238281</td>\n",
              "      <td>0.167969</td>\n",
              "    </tr>\n",
              "    <tr>\n",
              "      <th>(30.4, 42.8]</th>\n",
              "      <td>0.205534</td>\n",
              "      <td>0.217391</td>\n",
              "      <td>0.166008</td>\n",
              "      <td>0.185771</td>\n",
              "      <td>0.225296</td>\n",
              "    </tr>\n",
              "    <tr>\n",
              "      <th>(42.8, 55.2]</th>\n",
              "      <td>0.183857</td>\n",
              "      <td>0.188341</td>\n",
              "      <td>0.174888</td>\n",
              "      <td>0.152466</td>\n",
              "      <td>0.300448</td>\n",
              "    </tr>\n",
              "    <tr>\n",
              "      <th>(55.2, 67.6]</th>\n",
              "      <td>0.207207</td>\n",
              "      <td>0.319820</td>\n",
              "      <td>0.180180</td>\n",
              "      <td>0.184685</td>\n",
              "      <td>0.108108</td>\n",
              "    </tr>\n",
              "    <tr>\n",
              "      <th>(67.6, 80.0]</th>\n",
              "      <td>0.353659</td>\n",
              "      <td>0.414634</td>\n",
              "      <td>0.195122</td>\n",
              "      <td>0.036585</td>\n",
              "      <td>0.000000</td>\n",
              "    </tr>\n",
              "  </tbody>\n",
              "</table>\n",
              "</div>"
            ],
            "text/plain": [
              "exercise_time   (-0.3, 60.0]  (60.0, 120.0]  (120.0, 180.0]  (180.0, 240.0]  \\\n",
              "age                                                                           \n",
              "(17.938, 30.4]      0.203125       0.179688        0.210938        0.238281   \n",
              "(30.4, 42.8]        0.205534       0.217391        0.166008        0.185771   \n",
              "(42.8, 55.2]        0.183857       0.188341        0.174888        0.152466   \n",
              "(55.2, 67.6]        0.207207       0.319820        0.180180        0.184685   \n",
              "(67.6, 80.0]        0.353659       0.414634        0.195122        0.036585   \n",
              "\n",
              "exercise_time   (240.0, 300.0]  \n",
              "age                             \n",
              "(17.938, 30.4]        0.167969  \n",
              "(30.4, 42.8]          0.225296  \n",
              "(42.8, 55.2]          0.300448  \n",
              "(55.2, 67.6]          0.108108  \n",
              "(67.6, 80.0]          0.000000  "
            ]
          },
          "metadata": {
            "tags": []
          },
          "execution_count": 99
        }
      ]
    },
    {
      "metadata": {
        "id": "wDH34oKKNIxy",
        "colab_type": "code",
        "outputId": "05949ae4-ccab-4aaa-c644-650889d7e13b",
        "colab": {
          "base_uri": "https://localhost:8080/",
          "height": 235
        }
      },
      "cell_type": "code",
      "source": [
        "# Explore the relationship between weight and exercise time\n",
        "pd.crosstab(weight_bins, time_bins, normalize='columns')"
      ],
      "execution_count": 0,
      "outputs": [
        {
          "output_type": "execute_result",
          "data": {
            "text/html": [
              "<div>\n",
              "<style scoped>\n",
              "    .dataframe tbody tr th:only-of-type {\n",
              "        vertical-align: middle;\n",
              "    }\n",
              "\n",
              "    .dataframe tbody tr th {\n",
              "        vertical-align: top;\n",
              "    }\n",
              "\n",
              "    .dataframe thead th {\n",
              "        text-align: right;\n",
              "    }\n",
              "</style>\n",
              "<table border=\"1\" class=\"dataframe\">\n",
              "  <thead>\n",
              "    <tr style=\"text-align: right;\">\n",
              "      <th>exercise_time</th>\n",
              "      <th>(-0.3, 60.0]</th>\n",
              "      <th>(60.0, 120.0]</th>\n",
              "      <th>(120.0, 180.0]</th>\n",
              "      <th>(180.0, 240.0]</th>\n",
              "      <th>(240.0, 300.0]</th>\n",
              "    </tr>\n",
              "    <tr>\n",
              "      <th>weight</th>\n",
              "      <th></th>\n",
              "      <th></th>\n",
              "      <th></th>\n",
              "      <th></th>\n",
              "      <th></th>\n",
              "    </tr>\n",
              "  </thead>\n",
              "  <tbody>\n",
              "    <tr>\n",
              "      <th>(99.854, 129.2]</th>\n",
              "      <td>0.190647</td>\n",
              "      <td>0.205696</td>\n",
              "      <td>0.318386</td>\n",
              "      <td>0.411458</td>\n",
              "      <td>0.560209</td>\n",
              "    </tr>\n",
              "    <tr>\n",
              "      <th>(129.2, 158.4]</th>\n",
              "      <td>0.158273</td>\n",
              "      <td>0.240506</td>\n",
              "      <td>0.300448</td>\n",
              "      <td>0.385417</td>\n",
              "      <td>0.387435</td>\n",
              "    </tr>\n",
              "    <tr>\n",
              "      <th>(158.4, 187.6]</th>\n",
              "      <td>0.219424</td>\n",
              "      <td>0.294304</td>\n",
              "      <td>0.251121</td>\n",
              "      <td>0.197917</td>\n",
              "      <td>0.052356</td>\n",
              "    </tr>\n",
              "    <tr>\n",
              "      <th>(187.6, 216.8]</th>\n",
              "      <td>0.273381</td>\n",
              "      <td>0.231013</td>\n",
              "      <td>0.130045</td>\n",
              "      <td>0.005208</td>\n",
              "      <td>0.000000</td>\n",
              "    </tr>\n",
              "    <tr>\n",
              "      <th>(216.8, 246.0]</th>\n",
              "      <td>0.158273</td>\n",
              "      <td>0.028481</td>\n",
              "      <td>0.000000</td>\n",
              "      <td>0.000000</td>\n",
              "      <td>0.000000</td>\n",
              "    </tr>\n",
              "  </tbody>\n",
              "</table>\n",
              "</div>"
            ],
            "text/plain": [
              "exercise_time    (-0.3, 60.0]  (60.0, 120.0]  (120.0, 180.0]  (180.0, 240.0]  \\\n",
              "weight                                                                         \n",
              "(99.854, 129.2]      0.190647       0.205696        0.318386        0.411458   \n",
              "(129.2, 158.4]       0.158273       0.240506        0.300448        0.385417   \n",
              "(158.4, 187.6]       0.219424       0.294304        0.251121        0.197917   \n",
              "(187.6, 216.8]       0.273381       0.231013        0.130045        0.005208   \n",
              "(216.8, 246.0]       0.158273       0.028481        0.000000        0.000000   \n",
              "\n",
              "exercise_time    (240.0, 300.0]  \n",
              "weight                           \n",
              "(99.854, 129.2]        0.560209  \n",
              "(129.2, 158.4]         0.387435  \n",
              "(158.4, 187.6]         0.052356  \n",
              "(187.6, 216.8]         0.000000  \n",
              "(216.8, 246.0]         0.000000  "
            ]
          },
          "metadata": {
            "tags": []
          },
          "execution_count": 100
        }
      ]
    },
    {
      "metadata": {
        "id": "gwHKYqR8Nn6B",
        "colab_type": "code",
        "outputId": "e8f37055-a523-4151-cb47-a31f07a4b442",
        "colab": {
          "base_uri": "https://localhost:8080/",
          "height": 235
        }
      },
      "cell_type": "code",
      "source": [
        "# Explore the relationship between weight and age time\n",
        "pd.crosstab(weight_bins, age_bins, normalize='columns')"
      ],
      "execution_count": 0,
      "outputs": [
        {
          "output_type": "execute_result",
          "data": {
            "text/html": [
              "<div>\n",
              "<style scoped>\n",
              "    .dataframe tbody tr th:only-of-type {\n",
              "        vertical-align: middle;\n",
              "    }\n",
              "\n",
              "    .dataframe tbody tr th {\n",
              "        vertical-align: top;\n",
              "    }\n",
              "\n",
              "    .dataframe thead th {\n",
              "        text-align: right;\n",
              "    }\n",
              "</style>\n",
              "<table border=\"1\" class=\"dataframe\">\n",
              "  <thead>\n",
              "    <tr style=\"text-align: right;\">\n",
              "      <th>age</th>\n",
              "      <th>(17.938, 30.4]</th>\n",
              "      <th>(30.4, 42.8]</th>\n",
              "      <th>(42.8, 55.2]</th>\n",
              "      <th>(55.2, 67.6]</th>\n",
              "      <th>(67.6, 80.0]</th>\n",
              "    </tr>\n",
              "    <tr>\n",
              "      <th>weight</th>\n",
              "      <th></th>\n",
              "      <th></th>\n",
              "      <th></th>\n",
              "      <th></th>\n",
              "      <th></th>\n",
              "    </tr>\n",
              "  </thead>\n",
              "  <tbody>\n",
              "    <tr>\n",
              "      <th>(99.854, 129.2]</th>\n",
              "      <td>0.312500</td>\n",
              "      <td>0.411067</td>\n",
              "      <td>0.349776</td>\n",
              "      <td>0.238739</td>\n",
              "      <td>0.243902</td>\n",
              "    </tr>\n",
              "    <tr>\n",
              "      <th>(129.2, 158.4]</th>\n",
              "      <td>0.335938</td>\n",
              "      <td>0.245059</td>\n",
              "      <td>0.278027</td>\n",
              "      <td>0.319820</td>\n",
              "      <td>0.219512</td>\n",
              "    </tr>\n",
              "    <tr>\n",
              "      <th>(158.4, 187.6]</th>\n",
              "      <td>0.191406</td>\n",
              "      <td>0.193676</td>\n",
              "      <td>0.219731</td>\n",
              "      <td>0.202703</td>\n",
              "      <td>0.268293</td>\n",
              "    </tr>\n",
              "    <tr>\n",
              "      <th>(187.6, 216.8]</th>\n",
              "      <td>0.132812</td>\n",
              "      <td>0.122530</td>\n",
              "      <td>0.116592</td>\n",
              "      <td>0.198198</td>\n",
              "      <td>0.178862</td>\n",
              "    </tr>\n",
              "    <tr>\n",
              "      <th>(216.8, 246.0]</th>\n",
              "      <td>0.027344</td>\n",
              "      <td>0.027668</td>\n",
              "      <td>0.035874</td>\n",
              "      <td>0.040541</td>\n",
              "      <td>0.089431</td>\n",
              "    </tr>\n",
              "  </tbody>\n",
              "</table>\n",
              "</div>"
            ],
            "text/plain": [
              "age              (17.938, 30.4]  (30.4, 42.8]  (42.8, 55.2]  (55.2, 67.6]  \\\n",
              "weight                                                                      \n",
              "(99.854, 129.2]        0.312500      0.411067      0.349776      0.238739   \n",
              "(129.2, 158.4]         0.335938      0.245059      0.278027      0.319820   \n",
              "(158.4, 187.6]         0.191406      0.193676      0.219731      0.202703   \n",
              "(187.6, 216.8]         0.132812      0.122530      0.116592      0.198198   \n",
              "(216.8, 246.0]         0.027344      0.027668      0.035874      0.040541   \n",
              "\n",
              "age              (67.6, 80.0]  \n",
              "weight                         \n",
              "(99.854, 129.2]      0.243902  \n",
              "(129.2, 158.4]       0.219512  \n",
              "(158.4, 187.6]       0.268293  \n",
              "(187.6, 216.8]       0.178862  \n",
              "(216.8, 246.0]       0.089431  "
            ]
          },
          "metadata": {
            "tags": []
          },
          "execution_count": 101
        }
      ]
    },
    {
      "metadata": {
        "id": "FEBO28f1VcQO",
        "colab_type": "code",
        "outputId": "942b5f0b-5d01-4574-b401-940fcf240750",
        "colab": {
          "base_uri": "https://localhost:8080/",
          "height": 376
        }
      },
      "cell_type": "code",
      "source": [
        "# Graph scatterplot to further explore relationship of weight vs exercise time\n",
        "import matplotlib.pyplot as plt\n",
        "fig, ax = plt.subplots()\n",
        "ax.set_title('Weight VS Exercise Time')\n",
        "ax.set_xlabel('Exercise Time')\n",
        "ax.set_ylabel('Weight')\n",
        "ax.scatter(df['exercise_time'],df['weight'])\n",
        "plt.show()"
      ],
      "execution_count": 0,
      "outputs": [
        {
          "output_type": "display_data",
          "data": {
            "image/png": "[encoded data removed]",
            "text/plain": [
              "<matplotlib.figure.Figure at 0x7fbbde8c46d8>"
            ]
          },
          "metadata": {
            "tags": []
          }
        }
      ]
    },
    {
      "metadata": {
        "id": "swad0-iAVeXo",
        "colab_type": "code",
        "outputId": "fdcfcc48-050e-4247-cbd1-cc228b442b84",
        "colab": {
          "base_uri": "https://localhost:8080/",
          "height": 376
        }
      },
      "cell_type": "code",
      "source": [
        "# Graph scatterplot to further explore relationship of exercise time vs age\n",
        "import matplotlib.pyplot as plt\n",
        "fig, ax = plt.subplots()\n",
        "ax.set_title('Exercise Time vs. Age')\n",
        "ax.set_xlabel('Age')\n",
        "ax.set_ylabel('Exercise Time')\n",
        "ax.scatter(df['age'],df['exercise_time'])\n",
        "plt.show()"
      ],
      "execution_count": 0,
      "outputs": [
        {
          "output_type": "display_data",
          "data": {
            "image/png": "[encoded data removed]",
            "text/plain": [
              "<matplotlib.figure.Figure at 0x7fbbdecadf98>"
            ]
          },
          "metadata": {
            "tags": []
          }
        }
      ]
    },
    {
      "metadata": {
        "id": "WRTVHQaWVleC",
        "colab_type": "code",
        "outputId": "101128a2-7d47-4f19-cb83-211422da3386",
        "colab": {
          "base_uri": "https://localhost:8080/",
          "height": 376
        }
      },
      "cell_type": "code",
      "source": [
        "# Graph scatterplot to further explore relationship of weight vs age\n",
        "import matplotlib.pyplot as plt\n",
        "fig, ax = plt.subplots()\n",
        "ax.set_title('Weight VS Age')\n",
        "ax.set_xlabel('Age')\n",
        "ax.set_ylabel('Weight')\n",
        "ax.scatter(df['age'],df['weight'])\n",
        "plt.show()"
      ],
      "execution_count": 0,
      "outputs": [
        {
          "output_type": "display_data",
          "data": {
            "image/png": "[encoded data removed]",
            "text/plain": [
              "<matplotlib.figure.Figure at 0x7fbbe058ccf8>"
            ]
          },
          "metadata": {
            "tags": []
          }
        }
      ]
    },
    {
      "metadata": {
        "id": "79YjVey3jiHd",
        "colab_type": "code",
        "outputId": "81324ae8-b7df-4c7d-dec3-5b3ea939710a",
        "colab": {
          "base_uri": "https://localhost:8080/",
          "height": 351
        }
      },
      "cell_type": "code",
      "source": [
        "ax=pd.crosstab(time_bins, weight_bins, normalize='columns')\n",
        "ax.plot.area();"
      ],
      "execution_count": 0,
      "outputs": [
        {
          "output_type": "display_data",
          "data": {
            "image/png": "[encoded data removed]",
            "text/plain": [
              "<matplotlib.figure.Figure at 0x7fbbde6d8b00>"
            ]
          },
          "metadata": {
            "tags": []
          }
        }
      ]
    },
    {
      "metadata": {
        "id": "WdYXLwUpjjzn",
        "colab_type": "code",
        "outputId": "29d8e357-5192-4d02-c713-59703c2a756f",
        "colab": {
          "base_uri": "https://localhost:8080/",
          "height": 413
        }
      },
      "cell_type": "code",
      "source": [
        "ax.plot.bar();"
      ],
      "execution_count": 0,
      "outputs": [
        {
          "output_type": "display_data",
          "data": {
            "image/png": "[encoded data removed]",
            "text/plain": [
              "<matplotlib.figure.Figure at 0x7fbbde20ccc0>"
            ]
          },
          "metadata": {
            "tags": []
          }
        }
      ]
    },
    {
      "metadata": {
        "id": "-6bi-XoHjri5",
        "colab_type": "code",
        "outputId": "79376851-8a1d-49cc-db5c-d67e83cdea72",
        "colab": {
          "base_uri": "https://localhost:8080/",
          "height": 347
        }
      },
      "cell_type": "code",
      "source": [
        "ax.plot.density();"
      ],
      "execution_count": 0,
      "outputs": [
        {
          "output_type": "display_data",
          "data": {
            "image/png": "[encoded data removed]",
            "text/plain": [
              "<matplotlib.figure.Figure at 0x7fbbde3079e8>"
            ]
          },
          "metadata": {
            "tags": []
          }
        }
      ]
    },
    {
      "metadata": {
        "id": "BT9gdS7viJZa",
        "colab_type": "text"
      },
      "cell_type": "markdown",
      "source": [
        "### Assignment questions\n",
        "\n",
        "After you've worked on some code, answer the following questions in this text block:\n",
        "\n",
        "1.  What are the variable types in the data?\n",
        "\n",
        "Age, time, and weight are continuous variables within an interval.\n",
        "\n",
        "2.  What are the relationships between the variables?\n",
        "\n",
        "Exercise time seem to have some correlation with both age and weight.\n",
        "Age and weight seem to have low correlation with each other.\n",
        "\n",
        "3.  Which relationships are \"real\", and which spurious?\n",
        "\n",
        "Exercise Time Vs Age and Weight vs Exercise Time may have real relationship since there are trend to support their correlations. From reviewing the data table and graph, we can hypothesize that exercise time decrease when you get to a certain age and people with higher exercise time tends to have lower weight. However, there are many other confounding variables (eg. gender, diet, lifestyle choices) that can affect our current hypothesis so our current assumptions can also turn out to be spurious relationships. We cannot determine if our assumption is correct until we have a proper experiment with control group."
      ]
    },
    {
      "metadata": {
        "id": "_XXg2crAipwP",
        "colab_type": "text"
      },
      "cell_type": "markdown",
      "source": [
        "## Stretch goals and resources\n",
        "\n",
        "Following are *optional* things for you to take a look at. Focus on the above assignment first, and make sure to commit and push your changes to GitHub.\n",
        "\n",
        "- [Spurious Correlations](http://tylervigen.com/spurious-correlations)\n",
        "- [NIH on controlling for confounding variables](https://www.ncbi.nlm.nih.gov/pmc/articles/PMC4017459/)\n",
        "\n",
        "Stretch goals:\n",
        "\n",
        "- Produce your own plot inspierd by the Spurious Correlation visualizations (and consider writing a blog post about it - both the content and how you made it)\n",
        "- Pick one of the techniques that NIH highlights for confounding variables - we'll be going into many of them later, but see if you can find which Python modules may help (hint - check scikit-learn)"
      ]
    }
  ]
}